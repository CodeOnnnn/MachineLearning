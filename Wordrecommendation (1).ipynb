{
  "nbformat": 4,
  "nbformat_minor": 0,
  "metadata": {
    "colab": {
      "provenance": []
    },
    "kernelspec": {
      "name": "python3",
      "display_name": "Python 3"
    },
    "language_info": {
      "name": "python"
    },
    "accelerator": "GPU",
    "gpuClass": "standard"
  },
  "cells": [
    {
      "cell_type": "code",
      "execution_count": null,
      "metadata": {
        "id": "0XjyuBoegp7g"
      },
      "outputs": [],
      "source": [
        "import pandas as pd\n",
        "import numpy as np\n",
        "from tensorflow.keras.layers import Input,Dense, LSTM, Embedding\n",
        "from tensorflow.keras.preprocessing.text import Tokenizer\n",
        "from tensorflow.keras.preprocessing.sequence import pad_sequences\n",
        "from keras.models import Model\n",
        "from keras.utils import to_categorical"
      ]
    },
    {
      "cell_type": "code",
      "source": [
        "# Load the data\n",
        "data = pd.read_excel('/content/hindidata.xlsx')"
      ],
      "metadata": {
        "id": "yisV54HLpyU-"
      },
      "execution_count": null,
      "outputs": []
    },
    {
      "cell_type": "code",
      "source": [
        "# Preprocess the data\n",
        "corpus = data['Hindi'].tolist()\n",
        "corpus = [str(x) for x in corpus]\n",
        "tokenizer = Tokenizer()\n",
        "tokenizer.fit_on_texts(corpus)\n",
        "sequences = tokenizer.texts_to_sequences(corpus)\n",
        "max_sequence_length = max([len(x) for x in sequences])\n",
        "padded_sequences = pad_sequences(sequences, maxlen=max_sequence_length+1, padding='post')\n",
        "vocab_size = len(tokenizer.word_index) + 1\n"
      ],
      "metadata": {
        "id": "IX-D8Sjcpyrm"
      },
      "execution_count": null,
      "outputs": []
    },
    {
      "cell_type": "code",
      "source": [
        "# Define the LSTM model\n",
        "inputs = Input(shape=(max_sequence_length+1,))\n",
        "x = Embedding(vocab_size, 100)(inputs)\n",
        "x = LSTM(100)(x)\n",
        "outputs = Dense(vocab_size, activation='softmax')(x)\n",
        "model = Model(inputs=inputs, outputs=outputs)\n",
        "model.compile(loss='categorical_crossentropy', optimizer='adam', metrics=['accuracy'])\n",
        "print(model.summary())"
      ],
      "metadata": {
        "colab": {
          "base_uri": "https://localhost:8080/"
        },
        "id": "S0sAZN3Fp1fm",
        "outputId": "74c50578-44b5-4e70-83c1-44c884540319"
      },
      "execution_count": null,
      "outputs": [
        {
          "output_type": "stream",
          "name": "stdout",
          "text": [
            "Model: \"model\"\n",
            "_________________________________________________________________\n",
            " Layer (type)                Output Shape              Param #   \n",
            "=================================================================\n",
            " input_1 (InputLayer)        [(None, 26)]              0         \n",
            "                                                                 \n",
            " embedding (Embedding)       (None, 26, 100)           300800    \n",
            "                                                                 \n",
            " lstm (LSTM)                 (None, 100)               80400     \n",
            "                                                                 \n",
            " dense (Dense)               (None, 3008)              303808    \n",
            "                                                                 \n",
            "=================================================================\n",
            "Total params: 685,008\n",
            "Trainable params: 685,008\n",
            "Non-trainable params: 0\n",
            "_________________________________________________________________\n",
            "None\n"
          ]
        }
      ]
    },
    {
      "cell_type": "code",
      "source": [
        "# Train the LSTM model\n",
        "for i in range(10):\n",
        "    model.fit(padded_sequences, to_categorical(padded_sequences[:, i+1], num_classes=vocab_size),\n",
        "              epochs=1, verbose=1, batch_size=32)"
      ],
      "metadata": {
        "colab": {
          "base_uri": "https://localhost:8080/"
        },
        "id": "3MkEZRVdp1vA",
        "outputId": "d6cc5720-01f4-4653-fd9d-7a1f511bf516"
      },
      "execution_count": null,
      "outputs": [
        {
          "output_type": "stream",
          "name": "stdout",
          "text": [
            "90/90 [==============================] - 16s 96ms/step - loss: 7.1461 - accuracy: 0.0136\n",
            "90/90 [==============================] - 2s 24ms/step - loss: 6.9529 - accuracy: 0.0391\n",
            "90/90 [==============================] - 2s 17ms/step - loss: 6.6289 - accuracy: 0.0558\n",
            "90/90 [==============================] - 2s 17ms/step - loss: 6.0892 - accuracy: 0.1720\n",
            "90/90 [==============================] - 2s 20ms/step - loss: 5.0775 - accuracy: 0.3334\n",
            "90/90 [==============================] - 1s 9ms/step - loss: 3.6312 - accuracy: 0.5023\n",
            "90/90 [==============================] - 1s 6ms/step - loss: 2.3528 - accuracy: 0.6498\n",
            "90/90 [==============================] - 1s 11ms/step - loss: 1.4199 - accuracy: 0.7858\n",
            "90/90 [==============================] - 1s 13ms/step - loss: 0.9193 - accuracy: 0.8608\n",
            "90/90 [==============================] - 1s 11ms/step - loss: 0.5838 - accuracy: 0.9118\n"
          ]
        }
      ]
    },
    {
      "cell_type": "code",
      "source": [
        "# Define the word recommender function\n",
        "def get_word_recommendations(sequence):\n",
        "    sequence = sequence.split()\n",
        "    sequence = [tokenizer.word_index.get(word, 0) for word in sequence]\n",
        "    sequence = pad_sequences([sequence], maxlen=max_sequence_length+1, padding='post')\n",
        "    predicted_probs = model.predict(sequence)[0]\n",
        "    predicted_indices = np.argsort(predicted_probs)[::-1][:1]\n",
        "\n",
        "    return [tokenizer.index_word[index+1] for index in predicted_indices]\n",
        "\n"
      ],
      "metadata": {
        "id": "AQi-IDoBhBNR"
      },
      "execution_count": null,
      "outputs": []
    },
    {
      "cell_type": "code",
      "source": [
        "# # Example usage\n",
        "word_recommendations = get_word_recommendations('')\n",
        "print(word_recommendations)"
      ],
      "metadata": {
        "id": "5aZ_4OrZXtQU",
        "colab": {
          "base_uri": "https://localhost:8080/"
        },
        "outputId": "8b834241-6973-4100-e582-ea226f13d661"
      },
      "execution_count": null,
      "outputs": [
        {
          "output_type": "stream",
          "name": "stdout",
          "text": [
            "1/1 [==============================] - 0s 23ms/step\n",
            "['है।']\n"
          ]
        }
      ]
    }
  ]
}